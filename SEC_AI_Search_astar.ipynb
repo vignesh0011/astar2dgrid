{
 "cells": [
  {
   "cell_type": "code",
   "execution_count": 1,
   "id": "456faa04",
   "metadata": {},
   "outputs": [
    {
     "ename": "ModuleNotFoundError",
     "evalue": "No module named 'matplotlib'",
     "output_type": "error",
     "traceback": [
      "\u001b[1;31m---------------------------------------------------------------------------\u001b[0m",
      "\u001b[1;31mModuleNotFoundError\u001b[0m                       Traceback (most recent call last)",
      "\u001b[1;32mc:\\Users\\vignesh\\OneDrive\\Desktop\\fund of ai\\astar2dgrid\\SEC_AI_Search_astar.ipynb Cell 1'\u001b[0m in \u001b[0;36m<cell line: 1>\u001b[1;34m()\u001b[0m\n\u001b[1;32m----> <a href='vscode-notebook-cell:/c%3A/Users/vignesh/OneDrive/Desktop/fund%20of%20ai/astar2dgrid/SEC_AI_Search_astar.ipynb#ch0000000?line=0'>1</a>\u001b[0m get_ipython()\u001b[39m.\u001b[39;49mrun_line_magic(\u001b[39m'\u001b[39;49m\u001b[39mmatplotlib\u001b[39;49m\u001b[39m'\u001b[39;49m, \u001b[39m'\u001b[39;49m\u001b[39minline\u001b[39;49m\u001b[39m'\u001b[39;49m)\n\u001b[0;32m      <a href='vscode-notebook-cell:/c%3A/Users/vignesh/OneDrive/Desktop/fund%20of%20ai/astar2dgrid/SEC_AI_Search_astar.ipynb#ch0000000?line=1'>2</a>\u001b[0m \u001b[39mimport\u001b[39;00m \u001b[39mmatplotlib\u001b[39;00m\u001b[39m.\u001b[39;00m\u001b[39mpyplot\u001b[39;00m \u001b[39mas\u001b[39;00m \u001b[39mplt\u001b[39;00m\n\u001b[0;32m      <a href='vscode-notebook-cell:/c%3A/Users/vignesh/OneDrive/Desktop/fund%20of%20ai/astar2dgrid/SEC_AI_Search_astar.ipynb#ch0000000?line=2'>3</a>\u001b[0m \u001b[39mimport\u001b[39;00m \u001b[39mrandom\u001b[39;00m\n",
      "File \u001b[1;32m~\\AppData\\Local\\Programs\\Python\\Python310\\lib\\site-packages\\IPython\\core\\interactiveshell.py:2304\u001b[0m, in \u001b[0;36mInteractiveShell.run_line_magic\u001b[1;34m(self, magic_name, line, _stack_depth)\u001b[0m\n\u001b[0;32m   <a href='file:///c%3A/Users/vignesh/AppData/Local/Programs/Python/Python310/lib/site-packages/IPython/core/interactiveshell.py?line=2301'>2302</a>\u001b[0m     kwargs[\u001b[39m'\u001b[39m\u001b[39mlocal_ns\u001b[39m\u001b[39m'\u001b[39m] \u001b[39m=\u001b[39m \u001b[39mself\u001b[39m\u001b[39m.\u001b[39mget_local_scope(stack_depth)\n\u001b[0;32m   <a href='file:///c%3A/Users/vignesh/AppData/Local/Programs/Python/Python310/lib/site-packages/IPython/core/interactiveshell.py?line=2302'>2303</a>\u001b[0m \u001b[39mwith\u001b[39;00m \u001b[39mself\u001b[39m\u001b[39m.\u001b[39mbuiltin_trap:\n\u001b[1;32m-> <a href='file:///c%3A/Users/vignesh/AppData/Local/Programs/Python/Python310/lib/site-packages/IPython/core/interactiveshell.py?line=2303'>2304</a>\u001b[0m     result \u001b[39m=\u001b[39m fn(\u001b[39m*\u001b[39margs, \u001b[39m*\u001b[39m\u001b[39m*\u001b[39mkwargs)\n\u001b[0;32m   <a href='file:///c%3A/Users/vignesh/AppData/Local/Programs/Python/Python310/lib/site-packages/IPython/core/interactiveshell.py?line=2304'>2305</a>\u001b[0m \u001b[39mreturn\u001b[39;00m result\n",
      "File \u001b[1;32m~\\AppData\\Local\\Programs\\Python\\Python310\\lib\\site-packages\\IPython\\core\\magics\\pylab.py:99\u001b[0m, in \u001b[0;36mPylabMagics.matplotlib\u001b[1;34m(self, line)\u001b[0m\n\u001b[0;32m     <a href='file:///c%3A/Users/vignesh/AppData/Local/Programs/Python/Python310/lib/site-packages/IPython/core/magics/pylab.py?line=96'>97</a>\u001b[0m     \u001b[39mprint\u001b[39m(\u001b[39m\"\u001b[39m\u001b[39mAvailable matplotlib backends: \u001b[39m\u001b[39m%s\u001b[39;00m\u001b[39m\"\u001b[39m \u001b[39m%\u001b[39m backends_list)\n\u001b[0;32m     <a href='file:///c%3A/Users/vignesh/AppData/Local/Programs/Python/Python310/lib/site-packages/IPython/core/magics/pylab.py?line=97'>98</a>\u001b[0m \u001b[39melse\u001b[39;00m:\n\u001b[1;32m---> <a href='file:///c%3A/Users/vignesh/AppData/Local/Programs/Python/Python310/lib/site-packages/IPython/core/magics/pylab.py?line=98'>99</a>\u001b[0m     gui, backend \u001b[39m=\u001b[39m \u001b[39mself\u001b[39;49m\u001b[39m.\u001b[39;49mshell\u001b[39m.\u001b[39;49menable_matplotlib(args\u001b[39m.\u001b[39;49mgui\u001b[39m.\u001b[39;49mlower() \u001b[39mif\u001b[39;49;00m \u001b[39misinstance\u001b[39;49m(args\u001b[39m.\u001b[39;49mgui, \u001b[39mstr\u001b[39;49m) \u001b[39melse\u001b[39;49;00m args\u001b[39m.\u001b[39;49mgui)\n\u001b[0;32m    <a href='file:///c%3A/Users/vignesh/AppData/Local/Programs/Python/Python310/lib/site-packages/IPython/core/magics/pylab.py?line=99'>100</a>\u001b[0m     \u001b[39mself\u001b[39m\u001b[39m.\u001b[39m_show_matplotlib_backend(args\u001b[39m.\u001b[39mgui, backend)\n",
      "File \u001b[1;32m~\\AppData\\Local\\Programs\\Python\\Python310\\lib\\site-packages\\IPython\\core\\interactiveshell.py:3472\u001b[0m, in \u001b[0;36mInteractiveShell.enable_matplotlib\u001b[1;34m(self, gui)\u001b[0m\n\u001b[0;32m   <a href='file:///c%3A/Users/vignesh/AppData/Local/Programs/Python/Python310/lib/site-packages/IPython/core/interactiveshell.py?line=3450'>3451</a>\u001b[0m \u001b[39mdef\u001b[39;00m \u001b[39menable_matplotlib\u001b[39m(\u001b[39mself\u001b[39m, gui\u001b[39m=\u001b[39m\u001b[39mNone\u001b[39;00m):\n\u001b[0;32m   <a href='file:///c%3A/Users/vignesh/AppData/Local/Programs/Python/Python310/lib/site-packages/IPython/core/interactiveshell.py?line=3451'>3452</a>\u001b[0m     \u001b[39m\"\"\"Enable interactive matplotlib and inline figure support.\u001b[39;00m\n\u001b[0;32m   <a href='file:///c%3A/Users/vignesh/AppData/Local/Programs/Python/Python310/lib/site-packages/IPython/core/interactiveshell.py?line=3452'>3453</a>\u001b[0m \n\u001b[0;32m   <a href='file:///c%3A/Users/vignesh/AppData/Local/Programs/Python/Python310/lib/site-packages/IPython/core/interactiveshell.py?line=3453'>3454</a>\u001b[0m \u001b[39m    This takes the following steps:\u001b[39;00m\n\u001b[1;32m   (...)\u001b[0m\n\u001b[0;32m   <a href='file:///c%3A/Users/vignesh/AppData/Local/Programs/Python/Python310/lib/site-packages/IPython/core/interactiveshell.py?line=3469'>3470</a>\u001b[0m \u001b[39m        display figures inline.\u001b[39;00m\n\u001b[0;32m   <a href='file:///c%3A/Users/vignesh/AppData/Local/Programs/Python/Python310/lib/site-packages/IPython/core/interactiveshell.py?line=3470'>3471</a>\u001b[0m \u001b[39m    \"\"\"\u001b[39;00m\n\u001b[1;32m-> <a href='file:///c%3A/Users/vignesh/AppData/Local/Programs/Python/Python310/lib/site-packages/IPython/core/interactiveshell.py?line=3471'>3472</a>\u001b[0m     \u001b[39mfrom\u001b[39;00m \u001b[39mmatplotlib_inline\u001b[39;00m\u001b[39m.\u001b[39;00m\u001b[39mbackend_inline\u001b[39;00m \u001b[39mimport\u001b[39;00m configure_inline_support\n\u001b[0;32m   <a href='file:///c%3A/Users/vignesh/AppData/Local/Programs/Python/Python310/lib/site-packages/IPython/core/interactiveshell.py?line=3473'>3474</a>\u001b[0m     \u001b[39mfrom\u001b[39;00m \u001b[39mIPython\u001b[39;00m\u001b[39m.\u001b[39;00m\u001b[39mcore\u001b[39;00m \u001b[39mimport\u001b[39;00m pylabtools \u001b[39mas\u001b[39;00m pt\n\u001b[0;32m   <a href='file:///c%3A/Users/vignesh/AppData/Local/Programs/Python/Python310/lib/site-packages/IPython/core/interactiveshell.py?line=3474'>3475</a>\u001b[0m     gui, backend \u001b[39m=\u001b[39m pt\u001b[39m.\u001b[39mfind_gui_and_backend(gui, \u001b[39mself\u001b[39m\u001b[39m.\u001b[39mpylab_gui_select)\n",
      "File \u001b[1;32m~\\AppData\\Local\\Programs\\Python\\Python310\\lib\\site-packages\\matplotlib_inline\\backend_inline.py:6\u001b[0m, in \u001b[0;36m<module>\u001b[1;34m\u001b[0m\n\u001b[0;32m      <a href='file:///c%3A/Users/vignesh/AppData/Local/Programs/Python/Python310/lib/site-packages/matplotlib_inline/backend_inline.py?line=0'>1</a>\u001b[0m \u001b[39m\"\"\"A matplotlib backend for publishing figures via display_data\"\"\"\u001b[39;00m\n\u001b[0;32m      <a href='file:///c%3A/Users/vignesh/AppData/Local/Programs/Python/Python310/lib/site-packages/matplotlib_inline/backend_inline.py?line=2'>3</a>\u001b[0m \u001b[39m# Copyright (c) IPython Development Team.\u001b[39;00m\n\u001b[0;32m      <a href='file:///c%3A/Users/vignesh/AppData/Local/Programs/Python/Python310/lib/site-packages/matplotlib_inline/backend_inline.py?line=3'>4</a>\u001b[0m \u001b[39m# Distributed under the terms of the BSD 3-Clause License.\u001b[39;00m\n\u001b[1;32m----> <a href='file:///c%3A/Users/vignesh/AppData/Local/Programs/Python/Python310/lib/site-packages/matplotlib_inline/backend_inline.py?line=5'>6</a>\u001b[0m \u001b[39mimport\u001b[39;00m \u001b[39mmatplotlib\u001b[39;00m\n\u001b[0;32m      <a href='file:///c%3A/Users/vignesh/AppData/Local/Programs/Python/Python310/lib/site-packages/matplotlib_inline/backend_inline.py?line=6'>7</a>\u001b[0m \u001b[39mfrom\u001b[39;00m \u001b[39mmatplotlib\u001b[39;00m\u001b[39m.\u001b[39;00m\u001b[39mbackends\u001b[39;00m\u001b[39m.\u001b[39;00m\u001b[39mbackend_agg\u001b[39;00m \u001b[39mimport\u001b[39;00m (  \u001b[39m# noqa\u001b[39;00m\n\u001b[0;32m      <a href='file:///c%3A/Users/vignesh/AppData/Local/Programs/Python/Python310/lib/site-packages/matplotlib_inline/backend_inline.py?line=7'>8</a>\u001b[0m     new_figure_manager,\n\u001b[0;32m      <a href='file:///c%3A/Users/vignesh/AppData/Local/Programs/Python/Python310/lib/site-packages/matplotlib_inline/backend_inline.py?line=8'>9</a>\u001b[0m     FigureCanvasAgg,\n\u001b[0;32m     <a href='file:///c%3A/Users/vignesh/AppData/Local/Programs/Python/Python310/lib/site-packages/matplotlib_inline/backend_inline.py?line=9'>10</a>\u001b[0m     new_figure_manager_given_figure,\n\u001b[0;32m     <a href='file:///c%3A/Users/vignesh/AppData/Local/Programs/Python/Python310/lib/site-packages/matplotlib_inline/backend_inline.py?line=10'>11</a>\u001b[0m )\n\u001b[0;32m     <a href='file:///c%3A/Users/vignesh/AppData/Local/Programs/Python/Python310/lib/site-packages/matplotlib_inline/backend_inline.py?line=11'>12</a>\u001b[0m \u001b[39mfrom\u001b[39;00m \u001b[39mmatplotlib\u001b[39;00m \u001b[39mimport\u001b[39;00m colors\n",
      "\u001b[1;31mModuleNotFoundError\u001b[0m: No module named 'matplotlib'"
     ]
    }
   ],
   "source": [
    "%matplotlib inline\n",
    "import matplotlib.pyplot as plt\n",
    "import random\n",
    "import math\n",
    "import sys\n",
    "from collections import defaultdict, deque, Counter\n",
    "from itertools import combinations\n",
    "import heapq"
   ]
  },
  {
   "cell_type": "code",
   "execution_count": null,
   "id": "febb0da9-afbf-4ae5-8fde-4c886824b424",
   "metadata": {},
   "outputs": [],
   "source": []
  },
  {
   "cell_type": "markdown",
   "id": "979a4a51",
   "metadata": {},
   "source": [
    "# Problems"
   ]
  },
  {
   "cell_type": "markdown",
   "id": "7d58e05c-5c73-492b-a5d0-77e6578ff7c2",
   "metadata": {},
   "source": [
    "#### This is the abstract class. Specific problem domains will subclass this."
   ]
  },
  {
   "cell_type": "code",
   "execution_count": null,
   "id": "6cda9c85",
   "metadata": {},
   "outputs": [],
   "source": [
    "class Problem(object):\n",
    "    \"\"\"The abstract class for a formal problem. A new domain subclasses this,\n",
    "    overriding `actions` and `results`, and perhaps other methods.\n",
    "    The default heuristic is 0 and the default action cost is 1 for all states.\n",
    "    When yiou create an instance of a subclass, specify `initial`, and `goal` states \n",
    "    (or give an `is_goal` method) and perhaps other keyword args for the subclass.\"\"\"\n",
    "\n",
    "    def __init__(self, initial=None, goal=None, **kwds): \n",
    "        self.__dict__.update(initial=initial, goal=goal, **kwds) \n",
    "        \n",
    "    def actions(self, state):        \n",
    "        raise NotImplementedError\n",
    "    def result(self, state, action): \n",
    "        raise NotImplementedError\n",
    "    def is_goal(self, state):        \n",
    "        return state == self.goal\n",
    "    def action_cost(self, s, a, s1): \n",
    "        return 1\n",
    "    \n",
    "    def __str__(self):\n",
    "        return '{0}({1}, {2})'.format(\n",
    "            type(self).__name__, self.initial, self.goal)"
   ]
  },
  {
   "cell_type": "markdown",
   "id": "7a6d497d-96eb-498c-bd51-3c935d0dea0a",
   "metadata": {},
   "source": [
    "# Nodes"
   ]
  },
  {
   "cell_type": "markdown",
   "id": "b68f2b8d-7ccf-48e3-ab0d-151c7468675f",
   "metadata": {
    "tags": []
   },
   "source": [
    "#### This is the Node in the search tree. Helper functions (expand, path_actions, path_states) use this Node class."
   ]
  },
  {
   "cell_type": "code",
   "execution_count": null,
   "id": "e3a0a4a9",
   "metadata": {},
   "outputs": [],
   "source": [
    "class Node:\n",
    "    \"A Node in a search tree.\"\n",
    "    def __init__(self, state, parent=None, action=None, path_cost=0):\n",
    "        self.__dict__.update(state=state, parent=parent, action=action, path_cost=path_cost)\n",
    "\n",
    "    def __str__(self): \n",
    "        return '<{0}>'.format(self.state)\n",
    "    def __len__(self): \n",
    "        return 0 if self.parent is None else (1 + len(self.parent))\n",
    "    def __lt__(self, other): \n",
    "        return self.path_cost < other.path_cost"
   ]
  },
  {
   "cell_type": "code",
   "execution_count": null,
   "id": "abc1a9ff",
   "metadata": {},
   "outputs": [],
   "source": [
    "failure = Node('failure', path_cost=math.inf) # Indicates an algorithm couldn't find a solution.\n",
    "cutoff  = Node('cutoff',  path_cost=math.inf) # Indicates iterative deepening search was cut off."
   ]
  },
  {
   "cell_type": "markdown",
   "id": "1f1eed03-f5bb-48ec-8b60-e882d93c2fdf",
   "metadata": {},
   "source": [
    "# Helper functions"
   ]
  },
  {
   "cell_type": "code",
   "execution_count": null,
   "id": "6f8c0a62",
   "metadata": {},
   "outputs": [],
   "source": [
    "def expand(problem, node):\n",
    "    \"Expand a node, generating the children nodes.\"\n",
    "    s = node.state\n",
    "    for action in problem.actions(s):\n",
    "        s1 = problem.result(s, action)\n",
    "        cost = node.path_cost + problem.action_cost(s, action, s1)\n",
    "        yield Node(s1, node, action, cost)\n",
    "        \n",
    "\n",
    "def path_actions(node):\n",
    "    \"The sequence of actions to get to this node.\"\n",
    "    if node.parent is None:\n",
    "        return []  \n",
    "    return path_actions(node.parent) + [node.action]\n",
    "\n",
    "\n",
    "def path_states(node):\n",
    "    \"The sequence of states to get to this node.\"\n",
    "    if node in (cutoff, failure, None): \n",
    "        return []\n",
    "    return path_states(node.parent) + [node.state]"
   ]
  },
  {
   "cell_type": "markdown",
   "id": "71b52326-6672-43ad-a7b8-5f7f6ee201b0",
   "metadata": {},
   "source": [
    "# Search Algorithm :  Best First Search"
   ]
  },
  {
   "cell_type": "code",
   "execution_count": null,
   "id": "89ce7e27-1ab3-458b-816a-b9485a823256",
   "metadata": {},
   "outputs": [],
   "source": [
    "class PriorityQueue:\n",
    "    \"\"\"A queue in which the item with minimum f(item) is always popped first.\"\"\"\n",
    "\n",
    "    def __init__(self, items=(), key=lambda x: x): \n",
    "        self.key = key\n",
    "        self.items = [] # a heap of (score, item) pairs\n",
    "        for item in items:\n",
    "            self.add(item)\n",
    "         \n",
    "    def add(self, item):\n",
    "        \"\"\"Add item to the queuez.\"\"\"\n",
    "        pair = (self.key(item), item)\n",
    "        heapq.heappush(self.items, pair)\n",
    "\n",
    "    def pop(self):\n",
    "        \"\"\"Pop and return the item with min f(item) value.\"\"\"\n",
    "        return heapq.heappop(self.items)[1]\n",
    "    \n",
    "    def top(self): return self.items[0][1]\n",
    "\n",
    "    def __len__(self): return len(self.items)"
   ]
  },
  {
   "cell_type": "code",
   "execution_count": null,
   "id": "94049915",
   "metadata": {},
   "outputs": [],
   "source": [
    "def best_first_search(problem, f):\n",
    "    \"Search nodes with minimum f(node) value first.\"\n",
    "    node = Node(problem.initial)\n",
    "    frontier = PriorityQueue([node], key=f)\n",
    "    reached = {problem.initial: node}\n",
    "    while frontier:\n",
    "        node = frontier.pop()\n",
    "        if problem.is_goal(node.state):\n",
    "            return node\n",
    "        for child in expand(problem, node):\n",
    "            s = child.state\n",
    "            if s not in reached or child.path_cost < reached[s].path_cost:\n",
    "                reached[s] = child\n",
    "                frontier.add(child)\n",
    "    return failure\n",
    "\n",
    "def g(n): \n",
    "    return n.path_cost"
   ]
  },
  {
   "cell_type": "markdown",
   "id": "4be2f468-4872-41b0-a16e-a54a462a3671",
   "metadata": {},
   "source": [
    "# 2D Grid Pathfinding Problem"
   ]
  },
  {
   "cell_type": "code",
   "execution_count": null,
   "id": "5b1b1f91-5305-4106-807b-2981768815ef",
   "metadata": {},
   "outputs": [],
   "source": [
    "class GridProblem(Problem):\n",
    "    \"\"\"Finding a path on a 2D grid with obstacles. Obstacles are (x, y) cells.\"\"\"\n",
    "\n",
    "    def __init__(self, initial=(15, 30), goal=(130, 30), obstacles=(), **kwds):\n",
    "        Problem.__init__(self, initial=initial, goal=goal, \n",
    "                         obstacles=set(obstacles) - {initial, goal}, **kwds)\n",
    "\n",
    "    directions = [(-1, -1), (0, -1), (1, -1),\n",
    "                  (-1, 0),           (1,  0),\n",
    "                  (-1, +1), (0, +1), (1, +1)]\n",
    "    \n",
    "    def action_cost(self, s, action, s1): \n",
    "        return straight_line_distance(s, s1)\n",
    "    \n",
    "    def h(self, node): \n",
    "        return straight_line_distance(node.state, self.goal)\n",
    "                  \n",
    "    def result(self, state, action): \n",
    "        \"Both states and actions are represented by (x, y) pairs.\"\n",
    "        return action if action not in self.obstacles else state\n",
    "    \n",
    "    def actions(self, state):\n",
    "        \"\"\"You can move one cell in any of `directions` to a non-obstacle cell.\"\"\"\n",
    "        \n",
    "        x,y = state\n",
    "        return {(x+dx,y+dy)for(dx,dy) in self.directions}-self.obstacles\n",
    "   "
   ]
  },
  {
   "cell_type": "code",
   "execution_count": null,
   "id": "fa48fb78-852d-46ee-8c4c-2dc49f13024b",
   "metadata": {},
   "outputs": [],
   "source": [
    "def straight_line_distance(A, B):\n",
    "    \"Straight-line distance between two points.\"\n",
    "    return sum(abs(a-b)**2 for  (a,b) in zip(A,B))**0.5\n",
    "    return 0"
   ]
  },
  {
   "cell_type": "code",
   "execution_count": null,
   "id": "95a2e5cd-82e3-4d89-896c-d924be633e1d",
   "metadata": {},
   "outputs": [],
   "source": [
    "def g(n): \n",
    "    return n.path_cost"
   ]
  },
  {
   "cell_type": "code",
   "execution_count": null,
   "id": "a842dd67-34f0-4ba7-8536-5ac2476ebaf2",
   "metadata": {},
   "outputs": [],
   "source": [
    "def astar_search(problem, h=None):\n",
    "    \"\"\"Search nodes with minimum f(n) = g(n) + h(n).\"\"\"\n",
    "    h = h or problem.h\n",
    "    return best_first_search(problem, f=lambda n: g(n) + h(n))"
   ]
  },
  {
   "cell_type": "code",
   "execution_count": null,
   "id": "34f96d46",
   "metadata": {},
   "outputs": [],
   "source": [
    "obstacles={(13,13),(18,18)}"
   ]
  },
  {
   "cell_type": "code",
   "execution_count": null,
   "id": "6ca78361-7bc1-4c0f-a6f4-cdbb8a2d11fc",
   "metadata": {},
   "outputs": [],
   "source": [
    "grid1 = GridProblem(initial=(10,10), goal =(20,20) , obstacles=obstacles)"
   ]
  },
  {
   "cell_type": "code",
   "execution_count": null,
   "id": "35091004-0ffa-4b8a-ba38-56c9fa19c62e",
   "metadata": {},
   "outputs": [],
   "source": [
    "solution1 = astar_search(grid1)"
   ]
  },
  {
   "cell_type": "code",
   "execution_count": null,
   "id": "d93d21ca-0fb9-4518-ae0a-4b257ce0a290",
   "metadata": {},
   "outputs": [
    {
     "data": {
      "text/plain": [
       "[(10, 10),\n",
       " (11, 11),\n",
       " (12, 11),\n",
       " (13, 12),\n",
       " (14, 13),\n",
       " (15, 14),\n",
       " (16, 15),\n",
       " (17, 16),\n",
       " (18, 17),\n",
       " (19, 18),\n",
       " (19, 19),\n",
       " (20, 20)]"
      ]
     },
     "execution_count": 18,
     "metadata": {},
     "output_type": "execute_result"
    }
   ],
   "source": [
    "path_states(solution1)"
   ]
  }
 ],
 "metadata": {
  "kernelspec": {
   "display_name": "Python 3 (ipykernel)",
   "language": "python",
   "name": "python3"
  },
  "language_info": {
   "codemirror_mode": {
    "name": "ipython",
    "version": 3
   },
   "file_extension": ".py",
   "mimetype": "text/x-python",
   "name": "python",
   "nbconvert_exporter": "python",
   "pygments_lexer": "ipython3",
   "version": "3.10.1"
  }
 },
 "nbformat": 4,
 "nbformat_minor": 5
}
